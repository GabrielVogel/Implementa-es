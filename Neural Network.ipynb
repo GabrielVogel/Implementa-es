{
 "cells": [
  {
   "cell_type": "code",
   "execution_count": 3,
   "metadata": {},
   "outputs": [],
   "source": [
    "import numpy as np\n",
    "import torch.nn as nn\n",
    "import matplotlib.pyplot as plt\n",
    "import torch\n",
    "from torch.autograd import Variable"
   ]
  },
  {
   "cell_type": "code",
   "execution_count": 107,
   "metadata": {},
   "outputs": [],
   "source": [
    "N = 300\n",
    "D = 30\n",
    "M = 10\n",
    "K = 1\n",
    "\n",
    "\n",
    "X = torch.FloatTensor(torch.randn(N,D))\n",
    "y = torch.FloatTensor(torch.randn(N,1))\n",
    "\n",
    "\n",
    "\n",
    "W1 = Variable(torch.randn(D,M), requires_grad = True)\n",
    "W2 = Variable(torch.randn(M,K), requires_grad = True)\n",
    "\n",
    "b1 = Variable(torch.randn(M), requires_grad=True)\n",
    "b2 = Variable(torch.randn(K), requires_grad=True)\n"
   ]
  },
  {
   "cell_type": "code",
   "execution_count": 108,
   "metadata": {},
   "outputs": [],
   "source": [
    "def MSE(y, y_pred):\n",
    "    \n",
    "    return (y - y_pred).pow(2).mean()"
   ]
  },
  {
   "cell_type": "code",
   "execution_count": 109,
   "metadata": {
    "scrolled": true
   },
   "outputs": [
    {
     "name": "stdout",
     "output_type": "stream",
     "text": [
      "Epoch 0 : 67.35713195800781\n",
      "Epoch 200 : 38.293216705322266\n",
      "Epoch 400 : 21.879365921020508\n",
      "Epoch 600 : 21.387956619262695\n",
      "Epoch 800 : 29.284473419189453\n",
      "Epoch 1000 : 7.486393451690674\n",
      "Epoch 1200 : 13.859436988830566\n",
      "Epoch 1400 : 11.1597318649292\n",
      "Epoch 1600 : 7.460078239440918\n",
      "Epoch 1800 : 4.255046844482422\n",
      "Epoch 2000 : 1.8318477869033813\n",
      "Epoch 2200 : 2.745121955871582\n",
      "Epoch 2400 : 2.2276926040649414\n",
      "Epoch 2600 : 1.2430903911590576\n",
      "Epoch 2800 : 1.6045076847076416\n"
     ]
    }
   ],
   "source": [
    "learning_rate = 1e-5\n",
    "losses = []\n",
    "for i in range(3000):\n",
    "\n",
    "        xW1 = torch.matmul(X,W1)\n",
    "        zh = torch.relu(xW1 + b1)\n",
    "\n",
    "        pred = torch.matmul(zh,W2) + b2\n",
    "        erro = MSE(y,pred)\n",
    "        \n",
    "        if i % 200 == 0:\n",
    "            print(f'Epoch {i} : {erro.data}')\n",
    "        \n",
    "        \n",
    "        losses.append(erro.data)\n",
    "        erro.backward()\n",
    "    \n",
    "        gradW1 = W1.grad.data\n",
    "        gradW2 = W2.grad.data\n",
    "        gradb1 = b1.grad.data\n",
    "        gradb2 = b2.grad.data\n",
    "\n",
    "\n",
    "        W1.data = W1.data - learning_rate* gradW1\n",
    "        W2.data = W2.data - learning_rate*gradW2\n",
    "\n",
    "        b1.data = b1.data - learning_rate*gradb1\n",
    "        b2.data = b2.data - learning_rate *gradb2\n",
    "        \n",
    "        W1.grad.data.zero_()"
   ]
  },
  {
   "cell_type": "code",
   "execution_count": 110,
   "metadata": {},
   "outputs": [
    {
     "data": {
      "text/plain": [
       "[<matplotlib.lines.Line2D at 0x1dd1b9a2b38>]"
      ]
     },
     "execution_count": 110,
     "metadata": {},
     "output_type": "execute_result"
    },
    {
     "data": {
      "image/png": "[encoded data removed]",
      "text/plain": [
       "<Figure size 432x288 with 1 Axes>"
      ]
     },
     "metadata": {
      "needs_background": "light"
     },
     "output_type": "display_data"
    }
   ],
   "source": [
    "plt.plot(losses)"
   ]
  }
 ],
 "metadata": {
  "kernelspec": {
   "display_name": "Python 3",
   "language": "python",
   "name": "python3"
  },
  "language_info": {
   "codemirror_mode": {
    "name": "ipython",
    "version": 3
   },
   "file_extension": ".py",
   "mimetype": "text/x-python",
   "name": "python",
   "nbconvert_exporter": "python",
   "pygments_lexer": "ipython3",
   "version": "3.6.8"
  }
 },
 "nbformat": 4,
 "nbformat_minor": 2
}
