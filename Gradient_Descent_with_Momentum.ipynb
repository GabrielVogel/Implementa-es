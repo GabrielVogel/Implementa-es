{
  "nbformat": 4,
  "nbformat_minor": 0,
  "metadata": {
    "colab": {
      "name": "Gradient Descent with Momentum.ipynb",
      "provenance": [],
      "collapsed_sections": [],
      "authorship_tag": "ABX9TyP45djjXaWhnroo1fEnsWVu",
      "include_colab_link": true
    },
    "kernelspec": {
      "name": "python3",
      "display_name": "Python 3"
    },
    "accelerator": "GPU"
  },
  "cells": [
    {
      "cell_type": "markdown",
      "metadata": {
        "id": "view-in-github",
        "colab_type": "text"
      },
      "source": [
        "<a href=\"https://colab.research.google.com/github/GabrielVogel/Implementa-es/blob/master/Gradient_Descent_with_Momentum.ipynb\" target=\"_parent\"><img src=\"https://colab.research.google.com/assets/colab-badge.svg\" alt=\"Open In Colab\"/></a>"
      ]
    },
    {
      "cell_type": "code",
      "metadata": {
        "id": "Q3T2KWcGVAQv",
        "colab_type": "code",
        "colab": {}
      },
      "source": [
        "import numpy as np\n",
        "import torch as t\n",
        "from sklearn.datasets import fetch_california_housing"
      ],
      "execution_count": 0,
      "outputs": []
    },
    {
      "cell_type": "code",
      "metadata": {
        "id": "vXKgLarIYF1E",
        "colab_type": "code",
        "colab": {
          "base_uri": "https://localhost:8080/",
          "height": 34
        },
        "outputId": "e6d229ac-c07d-4487-9623-b6e0f4368716"
      },
      "source": [
        "X,y = fetch_california_housing(return_X_y=True)\n",
        "X = t.from_numpy(X.astype(np.float32))\n",
        "y = t.from_numpy(y.astype(np.float32))"
      ],
      "execution_count": 2,
      "outputs": [
        {
          "output_type": "stream",
          "text": [
            "Downloading Cal. housing from https://ndownloader.figshare.com/files/5976036 to /root/scikit_learn_data\n"
          ],
          "name": "stderr"
        }
      ]
    },
    {
      "cell_type": "code",
      "metadata": {
        "id": "7YNJZvV8YB7U",
        "colab_type": "code",
        "colab": {}
      },
      "source": [
        "D = X.shape[1]\n",
        "N = X.shape[0]\n",
        "K = 1"
      ],
      "execution_count": 0,
      "outputs": []
    },
    {
      "cell_type": "code",
      "metadata": {
        "id": "zqrY0KwhYNtY",
        "colab_type": "code",
        "colab": {}
      },
      "source": [
        "dims = [D,64,K] "
      ],
      "execution_count": 0,
      "outputs": []
    },
    {
      "cell_type": "code",
      "metadata": {
        "id": "CkLrZeyOZu9u",
        "colab_type": "code",
        "colab": {}
      },
      "source": [
        "def forwardProp(X,W,b):\n",
        "  return t.relu(t.mm(X,W)+b)"
      ],
      "execution_count": 0,
      "outputs": []
    },
    {
      "cell_type": "code",
      "metadata": {
        "id": "nGikgot-akRV",
        "colab_type": "code",
        "colab": {}
      },
      "source": [
        "def ForwardPropagation(X,params):\n",
        "  L = len(params) // 2\n",
        "  Al_1 = X\n",
        "  for l in range(1,L):\n",
        "    Al = forwardProp(Al_1,params[\"W\"+str(l)],params[\"b\"+str(l)])\n",
        "    Al_1 = Al\n",
        "\n",
        "  pred = t.mm(Al_1,params[\"W\"+str(L)])+params[\"b\"+str(L)]\n",
        "  return pred"
      ],
      "execution_count": 0,
      "outputs": []
    },
    {
      "cell_type": "code",
      "metadata": {
        "id": "Nc2MueVXbAey",
        "colab_type": "code",
        "colab": {}
      },
      "source": [
        "def MSE(y,y_pred):\n",
        "\n",
        "  return t.mean((y - y_pred)**2)"
      ],
      "execution_count": 0,
      "outputs": []
    },
    {
      "cell_type": "code",
      "metadata": {
        "id": "PtFEadwaZMBs",
        "colab_type": "code",
        "colab": {}
      },
      "source": [
        "def Params(dims):\n",
        "    params ={}\n",
        "    \n",
        "    for l in range(len(dims)-1):\n",
        "      Xavier = t.Tensor([1 / np.sqrt(dims[l+1])])\n",
        "      params[\"W\"+str(l+1)] = t.autograd.Variable(t.randn(size = (dims[l],dims[l+1])) * Xavier, requires_grad = True)\n",
        "      params[\"b\"+str(l+1)] = t.autograd.Variable(t.zeros((dims[l+1])), requires_grad = True)\n",
        "\n",
        "    return params"
      ],
      "execution_count": 0,
      "outputs": []
    },
    {
      "cell_type": "code",
      "metadata": {
        "id": "gY3BzTmKezJr",
        "colab_type": "code",
        "colab": {}
      },
      "source": [
        "def ReturnGrads(params):\n",
        "  L = len(params) // 2\n",
        "  grads = {}\n",
        "  \n",
        "  for l in range(1,L+1):\n",
        "    grads[\"W\"+str(l)] = params[\"W\"+str(l)].grad.data\n",
        "    grads[\"b\"+str(l)] = params[\"b\"+str(l)].grad.data\n",
        "\n",
        "  return grads"
      ],
      "execution_count": 0,
      "outputs": []
    },
    {
      "cell_type": "code",
      "metadata": {
        "id": "sfLV9YnZnb1S",
        "colab_type": "code",
        "colab": {}
      },
      "source": [
        "def InitializeVelocity(L):\n",
        "  velocity = {}\n",
        "  for l in range(1,L+1):\n",
        "    velocity[\"W\"+str(l)] = t.Tensor(t.zeros_like(params[\"W\"+str(l)]))\n",
        "    velocity[\"b\"+str(l)] = t.Tensor(t.zeros_like(params[\"b\"+str(l)]))\n",
        "\n",
        "  return velocity"
      ],
      "execution_count": 0,
      "outputs": []
    },
    {
      "cell_type": "code",
      "metadata": {
        "id": "p9a8dupVfWU8",
        "colab_type": "code",
        "colab": {}
      },
      "source": [
        "def UpdateParamsMomentum(grads, params,learning_rate,velocity,beta,epoch,decay):\n",
        "  L = len(params) // 2\n",
        "  \n",
        "  ##vdW = beta * vdW + (1 - beta)*dW\n",
        "  ##vdb = beta * vdb + (1 - beta)*db\n",
        "\n",
        "  ##dW = dW - learning_rate * vdW\n",
        "  ## db = db - learning_rate * vdb\n",
        "  \n",
        "  for l in range(1,L+1):\n",
        "    velocity[\"W\"+str(l)] = beta * velocity[\"W\"+str(l)].data + (1 - beta) * grads[\"W\"+str(l)].data\n",
        "    velocity[\"b\"+str(l)] = beta * velocity[\"b\"+str(l)].data + (1 - beta) * grads[\"b\"+str(l)].data\n",
        "  \n",
        "\n",
        "  lr = LearningRateDecay(learning_rate, epoch,decay)\n",
        "\n",
        "  for l in range(1,L+1):\n",
        "    params[\"W\"+str(l)].data -= learning_rate * velocity[\"W\"+str(l)].data\n",
        "    params[\"b\"+str(l)].data -= learning_rate * velocity[\"b\"+str(l)].data"
      ],
      "execution_count": 0,
      "outputs": []
    },
    {
      "cell_type": "code",
      "metadata": {
        "id": "hZ_eo6uvydwm",
        "colab_type": "code",
        "colab": {}
      },
      "source": [
        "def LearningRateDecay(alpha_zero,epoch,decay_rate):\n",
        "  return alpha_zero / (1 + epoch * decay_rate)"
      ],
      "execution_count": 0,
      "outputs": []
    },
    {
      "cell_type": "code",
      "metadata": {
        "id": "rqhrNEzeuXX0",
        "colab_type": "code",
        "colab": {}
      },
      "source": [
        "def UpdateParamsRMSprop(grads, params,learning_rate,velocity,beta,epoch,decay):\n",
        "\n",
        "  L = len(params) // 2\n",
        "  \n",
        "  ##vdW = beta * vdW + (1 - beta)*dW\n",
        "  ##vdb = beta * vdb + (1 - beta)*db\n",
        "\n",
        "  ##dW = dW - learning_rate * vdW\n",
        "  ## db = db - learning_rate * vdb\n",
        "  \n",
        "  for l in range(1,L+1):\n",
        "    velocity[\"W\"+str(l)] = beta * velocity[\"W\"+str(l)].data + (1 - beta) * t.pow(grads[\"W\"+str(l)].data,2)\n",
        "    velocity[\"b\"+str(l)] = beta * velocity[\"b\"+str(l)].data + (1 - beta) * t.pow(grads[\"b\"+str(l)].data,2)\n",
        "\n",
        "  \n",
        "  lr = LearningRateDecay(learning_rate, epoch,decay)\n",
        "\n",
        "\n",
        "  for l in range(1,L+1):\n",
        "    params[\"W\"+str(l)].data -= lr * grads[\"W\"+str(l)] / t.sqrt(velocity[\"W\"+str(l)])\n",
        "    params[\"b\"+str(l)].data -= lr * grads[\"b\"+str(l)] / t.sqrt(velocity[\"b\"+str(l)])"
      ],
      "execution_count": 0,
      "outputs": []
    },
    {
      "cell_type": "code",
      "metadata": {
        "id": "wjmaXCtMdOfo",
        "colab_type": "code",
        "colab": {
          "base_uri": "https://localhost:8080/",
          "height": 187
        },
        "outputId": "d5ec5904-d6d8-4666-8a4a-f27ae46716f1"
      },
      "source": [
        "learning_rate = t.Tensor([10e-7])\n",
        "beta = t.Tensor([0.95])\n",
        "losses = []\n",
        "\n",
        "\n",
        "params = Params(dims)\n",
        "L = len(params) // 2\n",
        "Velocity = InitializeVelocity(L)\n",
        "epochs = 600\n",
        "for epoch in range(epochs):\n",
        "\n",
        "  pred = ForwardPropagation(X[:1000],params)\n",
        "  loss = MSE(y[:1000],pred)\n",
        "  \n",
        "  losses.append(loss.data)\n",
        "  if epoch % (epochs / 10) == 0:\n",
        "    print(f'Epoch {epoch}: {loss.data}')\n",
        "\n",
        "\n",
        "  loss.backward()\n",
        "\n",
        "  grads = ReturnGrads(params)\n",
        "  #UpdateParams(grads,params,learning_rate,Velocity,beta)\n",
        "  UpdateParamsMomentum(grads,params,learning_rate,Velocity,beta,epoch+1,decay= 0.1)\n",
        "  for l in range(1,L+1):\n",
        "    grads[\"W\"+str(l)].zero_()\n",
        "    grads[\"b\"+str(l)].zero_()\n",
        "  ##w1.grad.data.zero_()\n",
        "  ##w2.grad.data.zero_()"
      ],
      "execution_count": 20,
      "outputs": [
        {
          "output_type": "stream",
          "text": [
            "Epoch 0: 1167590.375\n",
            "Epoch 60: 5.058362007141113\n",
            "Epoch 120: 5.0448408126831055\n",
            "Epoch 180: 5.02942419052124\n",
            "Epoch 240: 5.013885021209717\n",
            "Epoch 300: 4.998406410217285\n",
            "Epoch 360: 4.979897975921631\n",
            "Epoch 420: 4.956258773803711\n",
            "Epoch 480: 4.92887020111084\n",
            "Epoch 540: 4.897324085235596\n"
          ],
          "name": "stdout"
        }
      ]
    },
    {
      "cell_type": "code",
      "metadata": {
        "id": "gWDbPh5DhJm4",
        "colab_type": "code",
        "colab": {}
      },
      "source": [
        "import matplotlib.pyplot as plt "
      ],
      "execution_count": 0,
      "outputs": []
    },
    {
      "cell_type": "code",
      "metadata": {
        "id": "JvO_3Fshuy84",
        "colab_type": "code",
        "colab": {}
      },
      "source": [
        "losses[-1]"
      ],
      "execution_count": 0,
      "outputs": []
    },
    {
      "cell_type": "code",
      "metadata": {
        "id": "N_2dwTCEjNql",
        "colab_type": "code",
        "colab": {}
      },
      "source": [
        "plt.plot(losses)"
      ],
      "execution_count": 0,
      "outputs": []
    },
    {
      "cell_type": "code",
      "metadata": {
        "id": "rMGyXhNIlJv-",
        "colab_type": "code",
        "colab": {}
      },
      "source": [
        ""
      ],
      "execution_count": 0,
      "outputs": []
    }
  ]
}