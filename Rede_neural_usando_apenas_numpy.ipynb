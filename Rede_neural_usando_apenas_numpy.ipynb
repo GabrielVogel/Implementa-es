{
  "nbformat": 4,
  "nbformat_minor": 0,
  "metadata": {
    "colab": {
      "name": "Rede neural usando apenas numpy.ipynb",
      "provenance": [],
      "collapsed_sections": [],
      "authorship_tag": "ABX9TyOkg9v/DaUPANhvpPFh6kRn",
      "include_colab_link": true
    },
    "kernelspec": {
      "name": "python3",
      "display_name": "Python 3"
    },
    "accelerator": "GPU"
  },
  "cells": [
    {
      "cell_type": "markdown",
      "metadata": {
        "id": "view-in-github",
        "colab_type": "text"
      },
      "source": [
        "<a href=\"https://colab.research.google.com/github/GabrielVogel/Implementa-es/blob/master/Rede_neural_usando_apenas_numpy.ipynb\" target=\"_parent\"><img src=\"https://colab.research.google.com/assets/colab-badge.svg\" alt=\"Open In Colab\"/></a>"
      ]
    },
    {
      "cell_type": "code",
      "metadata": {
        "id": "riThqGIGZlbo",
        "colab_type": "code",
        "colab": {}
      },
      "source": [
        "import numpy as np\n",
        "import matplotlib.pyplot as plt"
      ],
      "execution_count": 0,
      "outputs": []
    },
    {
      "cell_type": "code",
      "metadata": {
        "id": "tghkT7D7a3Os",
        "colab_type": "code",
        "colab": {}
      },
      "source": [
        "def sigmoid(z):\n",
        "    return 1 / (1 + np.exp(-z))\n",
        "\n",
        "def sigmoid_der(z):\n",
        "    return (1 - sigmoid(z)) * sigmoid(z)\n",
        "\n",
        "def softmax(A):\n",
        "    expA = np.exp(A)\n",
        "    return expA / expA.sum(axis=1, keepdims=True)\n",
        "\n",
        "def CategoricalCrossEntropy(y,y_pred):\n",
        "    return -np.sum(y * np.log(y_pred))\n",
        "\n",
        "\n",
        "def relu(Z):\n",
        "\n",
        "  return np.maximum(Z,0)\n",
        "\n",
        "def der_relu(x):\n",
        "  x[x<=0] = 0\n",
        "  x[x>0] = 1\n",
        "  return x"
      ],
      "execution_count": 0,
      "outputs": []
    },
    {
      "cell_type": "code",
      "metadata": {
        "id": "BeHxwYr3a4wL",
        "colab_type": "code",
        "colab": {}
      },
      "source": [
        "from keras.datasets import mnist"
      ],
      "execution_count": 0,
      "outputs": []
    },
    {
      "cell_type": "code",
      "metadata": {
        "id": "ZYghB-Baa55M",
        "colab_type": "code",
        "colab": {}
      },
      "source": [
        "(X_train, y_train), (X_test, y_test)= mnist.load_data()"
      ],
      "execution_count": 0,
      "outputs": []
    },
    {
      "cell_type": "code",
      "metadata": {
        "id": "KkN4NSeka7A8",
        "colab_type": "code",
        "colab": {}
      },
      "source": [
        "X_train = X_train.reshape(X_train.shape[0],28 * 28)\n",
        "Ytrain = np.zeros((60000, 10))\n",
        "for i in range(60000):\n",
        "    Ytrain[i][y_train[i]]= 1\n",
        "Ytest= np.zeros((10000, 10))\n",
        "for i in range(10000):\n",
        "    Ytest[i][y_test[i]]= 1"
      ],
      "execution_count": 0,
      "outputs": []
    },
    {
      "cell_type": "code",
      "metadata": {
        "id": "31Zw8jkOa8Tl",
        "colab_type": "code",
        "colab": {}
      },
      "source": [
        "D = 784\n",
        "K = Ytrain.shape[1]\n",
        "n = 1000"
      ],
      "execution_count": 0,
      "outputs": []
    },
    {
      "cell_type": "code",
      "metadata": {
        "id": "zsBy_p5xbCBY",
        "colab_type": "code",
        "colab": {}
      },
      "source": [
        "def forward_pass(X,W,b):\n",
        "    \n",
        "    Z = np.dot(X,W) + b\n",
        "    return relu(Z),Z\n",
        "\n",
        "def ForwardPropagation(X,params):\n",
        "    \n",
        "    L = len(params) // 2\n",
        "    Ao = X\n",
        "    Zs = []\n",
        "    Als = [Ao]\n",
        "    for l in range(1,L):\n",
        "        Al, Zl = forward_pass(Ao,params[\"W\"+str(l)],params[\"b\"+str(l)])\n",
        "        Zs.append(Zl)\n",
        "        Als.append(Al)\n",
        "        Ao = Al\n",
        "    ZL = np.dot(Ao, params[\"W\"+str(L)]) + params[\"b\"+str(L)]\n",
        "    Zs.append(ZL)\n",
        "    AL = softmax(ZL)\n",
        "    return AL,Zs,Als\n",
        "        "
      ],
      "execution_count": 0,
      "outputs": []
    },
    {
      "cell_type": "code",
      "metadata": {
        "id": "40Ua3P4RbEna",
        "colab_type": "code",
        "colab": {}
      },
      "source": [
        "def LastLayerBackward(y, y_hat,W,Al_1):\n",
        "    dL_dz2 = y_hat - y\n",
        "    db = dL_dz2.sum(axis = 0) * 1/ n\n",
        "    dW = np.dot(Al_1.T,dL_dz2) * 1/n\n",
        "    dAl_1 = np.dot(dL_dz2,W.T)\n",
        "    \n",
        "    return dW,db,dAl_1\n",
        "    "
      ],
      "execution_count": 0,
      "outputs": []
    },
    {
      "cell_type": "code",
      "metadata": {
        "id": "f9CJUphFbG6a",
        "colab_type": "code",
        "colab": {}
      },
      "source": [
        "def OtherLayerBackwards(dAl,Z,W,Al_1):\n",
        "    dL_dz = dAl * der_relu(Z)\n",
        "    db = dL_dz.sum(axis = 0) * 1/ n\n",
        "    dW = np.dot(Al_1.T,dL_dz) * 1/n\n",
        "    dAl_1 = np.dot(dL_dz,W.T)\n",
        "    \n",
        "    return dW,db,dAl_1"
      ],
      "execution_count": 0,
      "outputs": []
    },
    {
      "cell_type": "code",
      "metadata": {
        "id": "pURBfe9FbHQa",
        "colab_type": "code",
        "colab": {}
      },
      "source": [
        "def train(X,Y,params,learning_rate,epochs):\n",
        "    \n",
        "    L = len(params) // 2\n",
        "    losses = []\n",
        "    \n",
        "    for epoch in range(epochs):\n",
        "        pred, Zs,Als = ForwardPropagation(X,params)\n",
        "        l = CategoricalCrossEntropy(Y,pred)\n",
        "        losses.append(l)\n",
        "        if epoch % 200 == 0:\n",
        "          print(f\"Epoch {epoch} : {l}\")\n",
        "        \n",
        "        dW,db,dAl_1 = LastLayerBackward(Y,pred,params[\"W\"+str(L)],Als[-1])\n",
        "        params[\"W\"+str(L)] -= learning_rate * dW\n",
        "        params[\"b\"+str(L)] -= learning_rate * db\n",
        "        \n",
        "        for l in reversed(range(L-1)):\n",
        "            dw,db,dAl_1 = OtherLayerBackwards(dAl_1,Zs[l],params[\"W\"+str(l+1)],Als[l])\n",
        "            params[\"W\"+str(l+1)] -= learning_rate * dw\n",
        "            params[\"b\"+str(l+1)] -= learning_rate * db\n",
        "            \n",
        "    return losses"
      ],
      "execution_count": 0,
      "outputs": []
    },
    {
      "cell_type": "code",
      "metadata": {
        "id": "bVtxBKUybJgs",
        "colab_type": "code",
        "colab": {}
      },
      "source": [
        "def fit(X,y,Dims,epochs,learning_rate):\n",
        "\n",
        "    params = {}\n",
        "\n",
        "    for i in range(len(Dims)-1):\n",
        "        params[\"W\"+str(i+1)] = np.random.randn(Dims[i],Dims[i+1]) * 0.01\n",
        "        params[\"b\"+str(i+1)] = np.zeros(Dims[i+1])  \n",
        "        \n",
        "    \n",
        "    losses = train(X,y,params,learning_rate,epochs)\n",
        "    return losses,params"
      ],
      "execution_count": 0,
      "outputs": []
    },
    {
      "cell_type": "code",
      "metadata": {
        "id": "dfr-4BZEbKyz",
        "colab_type": "code",
        "colab": {}
      },
      "source": [
        "def PlotCurve(losses):\n",
        "    plt.plot(losses)"
      ],
      "execution_count": 0,
      "outputs": []
    },
    {
      "cell_type": "code",
      "metadata": {
        "id": "_9l4bIyobQR2",
        "colab_type": "code",
        "colab": {
          "base_uri": "https://localhost:8080/",
          "height": 102
        },
        "outputId": "645d138b-3c8d-4448-cb00-751f40d05083"
      },
      "source": [
        "dims = [D,64,K]\n",
        "n = 10000\n",
        "losses,params = fit(X_train[:n],Ytrain[:n],dims, epochs = 1000,learning_rate=10e-4)"
      ],
      "execution_count": 99,
      "outputs": [
        {
          "output_type": "stream",
          "text": [
            "Epoch 0 : 57069.81311301795\n",
            "Epoch 200 : 6123.106653543159\n",
            "Epoch 400 : 4606.036077125276\n",
            "Epoch 600 : 3760.4419049540984\n",
            "Epoch 800 : 3174.4563430077355\n"
          ],
          "name": "stdout"
        }
      ]
    },
    {
      "cell_type": "code",
      "metadata": {
        "id": "-IjtcWqAbRVY",
        "colab_type": "code",
        "colab": {
          "base_uri": "https://localhost:8080/",
          "height": 265
        },
        "outputId": "94cad9f6-9309-4173-995c-01a3bbe2aa09"
      },
      "source": [
        "PlotCurve(losses)"
      ],
      "execution_count": 100,
      "outputs": [
        {
          "output_type": "display_data",
          "data": {
            "image/png": "[encoded data removed]",
            "text/plain": [
              "<Figure size 432x288 with 1 Axes>"
            ]
          },
          "metadata": {
            "tags": [],
            "needs_background": "light"
          }
        }
      ]
    },
    {
      "cell_type": "code",
      "metadata": {
        "id": "CQGHv9TghUU4",
        "colab_type": "code",
        "colab": {
          "base_uri": "https://localhost:8080/",
          "height": 34
        },
        "outputId": "49ff5ff4-1fa6-4776-df1d-03b54aae4e9f"
      },
      "source": [
        "losses[-1]"
      ],
      "execution_count": 101,
      "outputs": [
        {
          "output_type": "execute_result",
          "data": {
            "text/plain": [
              "2738.4697900244114"
            ]
          },
          "metadata": {
            "tags": []
          },
          "execution_count": 101
        }
      ]
    },
    {
      "cell_type": "code",
      "metadata": {
        "id": "xij-zGwVdcNw",
        "colab_type": "code",
        "colab": {}
      },
      "source": [
        "AL,_,_ = ForwardPropagation(X_test.reshape(10000,784),params)"
      ],
      "execution_count": 0,
      "outputs": []
    },
    {
      "cell_type": "code",
      "metadata": {
        "id": "iymtuuZxd7yB",
        "colab_type": "code",
        "colab": {}
      },
      "source": [
        "total = 10000\n",
        "counts = 0\n",
        "for i,x in enumerate(softmax(AL)):\n",
        "  if x.argmax() == Ytest[i].argmax():\n",
        "    counts += 1"
      ],
      "execution_count": 0,
      "outputs": []
    },
    {
      "cell_type": "code",
      "metadata": {
        "id": "5Z3DUbbEfBmE",
        "colab_type": "code",
        "colab": {
          "base_uri": "https://localhost:8080/",
          "height": 34
        },
        "outputId": "6302d826-7517-4f4b-e3b8-dbc49c8840d3"
      },
      "source": [
        "counts / total * 100 "
      ],
      "execution_count": 112,
      "outputs": [
        {
          "output_type": "execute_result",
          "data": {
            "text/plain": [
              "94.6"
            ]
          },
          "metadata": {
            "tags": []
          },
          "execution_count": 112
        }
      ]
    }
  ]
}