{
  "nbformat": 4,
  "nbformat_minor": 0,
  "metadata": {
    "colab": {
      "name": "Rede neural usando apenas numpy.ipynb",
      "provenance": [],
      "collapsed_sections": [],
      "authorship_tag": "ABX9TyPjJel1FsN22kAsRBK25Eyb",
      "include_colab_link": true
    },
    "kernelspec": {
      "name": "python3",
      "display_name": "Python 3"
    },
    "accelerator": "GPU"
  },
  "cells": [
    {
      "cell_type": "markdown",
      "metadata": {
        "id": "view-in-github",
        "colab_type": "text"
      },
      "source": [
        "<a href=\"https://colab.research.google.com/github/GabrielVogel/Implementa-es/blob/master/Rede_neural_usando_apenas_numpy.ipynb\" target=\"_parent\"><img src=\"https://colab.research.google.com/assets/colab-badge.svg\" alt=\"Open In Colab\"/></a>"
      ]
    },
    {
      "cell_type": "code",
      "metadata": {
        "id": "riThqGIGZlbo",
        "colab_type": "code",
        "colab": {}
      },
      "source": [
        "import numpy as np\n",
        "import matplotlib.pyplot as plt"
      ],
      "execution_count": 0,
      "outputs": []
    },
    {
      "cell_type": "code",
      "metadata": {
        "id": "tghkT7D7a3Os",
        "colab_type": "code",
        "colab": {}
      },
      "source": [
        "def sigmoid(z):\n",
        "    return 1 / (1 + np.exp(-z))\n",
        "\n",
        "def sigmoid_der(z):\n",
        "    return (1 - sigmoid(z)) * sigmoid(z)\n",
        "\n",
        "def softmax(A):\n",
        "    expA = np.exp(A)\n",
        "    return expA / expA.sum(axis=1, keepdims=True)\n",
        "\n",
        "def CategoricalCrossEntropy(y,y_pred):\n",
        "    return -np.sum(y * np.log(y_pred))\n",
        "\n",
        "def relu(Z):\n",
        "\n",
        "  return np.maximum(Z,0)\n",
        "\n",
        "def der_relu(x):\n",
        "  x[x<=0] = 0\n",
        "  x[x>0] = 1\n",
        "  return x"
      ],
      "execution_count": 0,
      "outputs": []
    },
    {
      "cell_type": "code",
      "metadata": {
        "id": "BeHxwYr3a4wL",
        "colab_type": "code",
        "colab": {
          "base_uri": "https://localhost:8080/",
          "height": 34
        },
        "outputId": "74538a73-b548-4263-b8e6-654e5f99746a"
      },
      "source": [
        "from keras.datasets import mnist"
      ],
      "execution_count": 3,
      "outputs": [
        {
          "output_type": "stream",
          "text": [
            "Using TensorFlow backend.\n"
          ],
          "name": "stderr"
        }
      ]
    },
    {
      "cell_type": "code",
      "metadata": {
        "id": "ZYghB-Baa55M",
        "colab_type": "code",
        "colab": {}
      },
      "source": [
        "(X_train, y_train), (X_test, y_test)= mnist.load_data()"
      ],
      "execution_count": 0,
      "outputs": []
    },
    {
      "cell_type": "code",
      "metadata": {
        "id": "KkN4NSeka7A8",
        "colab_type": "code",
        "colab": {}
      },
      "source": [
        "X_train = X_train.reshape(X_train.shape[0],28 * 28)\n",
        "Ytrain = np.zeros((60000, 10))\n",
        "for i in range(60000):\n",
        "    Ytrain[i][y_train[i]]= 1\n",
        "Ytest= np.zeros((10000, 10))\n",
        "for i in range(10000):\n",
        "    Ytest[i][y_test[i]]= 1"
      ],
      "execution_count": 0,
      "outputs": []
    },
    {
      "cell_type": "code",
      "metadata": {
        "id": "31Zw8jkOa8Tl",
        "colab_type": "code",
        "colab": {}
      },
      "source": [
        "D = 784\n",
        "K = Ytrain.shape[1]\n",
        "n = 1000"
      ],
      "execution_count": 0,
      "outputs": []
    },
    {
      "cell_type": "code",
      "metadata": {
        "id": "zsBy_p5xbCBY",
        "colab_type": "code",
        "colab": {}
      },
      "source": [
        "def forward_pass(X,W,b):\n",
        "    \n",
        "    Z = np.dot(X,W) + b\n",
        "    return relu(Z),Z\n",
        "\n",
        "def ForwardPropagation(X,params):\n",
        "    \n",
        "    L = len(params) // 2\n",
        "    Ao = X\n",
        "    Zs = []\n",
        "    Als = [Ao]\n",
        "    for l in range(1,L):\n",
        "        Al, Zl = forward_pass(Ao,params[\"W\"+str(l)],params[\"b\"+str(l)])\n",
        "        Zs.append(Zl)\n",
        "        Als.append(Al)\n",
        "        Ao = Al\n",
        "    ZL = np.dot(Ao, params[\"W\"+str(L)]) + params[\"b\"+str(L)]\n",
        "    Zs.append(ZL)\n",
        "    AL = softmax(ZL)\n",
        "    return AL,Zs,Als\n",
        "        "
      ],
      "execution_count": 0,
      "outputs": []
    },
    {
      "cell_type": "code",
      "metadata": {
        "id": "40Ua3P4RbEna",
        "colab_type": "code",
        "colab": {}
      },
      "source": [
        "def LastLayerBackward(y, y_hat,W,Al_1):\n",
        "    dL_dz2 = y_hat - y\n",
        "    db = dL_dz2.sum(axis = 0) * 1/ n\n",
        "    dW = np.dot(Al_1.T,dL_dz2) * 1/n\n",
        "    dAl_1 = np.dot(dL_dz2,W.T)\n",
        "    \n",
        "    return dW,db,dAl_1\n",
        "    "
      ],
      "execution_count": 0,
      "outputs": []
    },
    {
      "cell_type": "code",
      "metadata": {
        "id": "f9CJUphFbG6a",
        "colab_type": "code",
        "colab": {}
      },
      "source": [
        "def OtherLayerBackwards(dAl,Z,W,Al_1):\n",
        "    dL_dz = dAl * der_relu(Z)\n",
        "    db = dL_dz.sum(axis = 0) * 1/ n\n",
        "    dW = np.dot(Al_1.T,dL_dz) * 1/n\n",
        "    dAl_1 = np.dot(dL_dz,W.T)\n",
        "    \n",
        "    return dW,db,dAl_1"
      ],
      "execution_count": 0,
      "outputs": []
    },
    {
      "cell_type": "code",
      "metadata": {
        "id": "8ANX543WbjdD",
        "colab_type": "code",
        "colab": {}
      },
      "source": [
        "def Regularization(lambd, params,m):\n",
        "\n",
        "  L = len(params) // 2\n",
        "  s = 0\n",
        "  for l in range(1,L+1):\n",
        "    s += np.sum(params[\"W\"+str(l)] ** 2)\n",
        "\n",
        "  return 1/m * lambd / 2 * s"
      ],
      "execution_count": 0,
      "outputs": []
    },
    {
      "cell_type": "code",
      "metadata": {
        "id": "pURBfe9FbHQa",
        "colab_type": "code",
        "colab": {}
      },
      "source": [
        "def train(X,Y,X_train,Y_train,params,learning_rate,epochs,lambd,beta):\n",
        "    \n",
        "    L = len(params) // 2\n",
        "    losses = []\n",
        "    test_losses = []\n",
        "    m = Y.shape[0]\n",
        "    for epoch in range(epochs):\n",
        "        pred, Zs,Als = ForwardPropagation(X,params)\n",
        "        regularization = Regularization(lambd, params,pred.shape[0])\n",
        "        l = CategoricalCrossEntropy(Y,pred)\n",
        "        \n",
        "        pred_test,_,_ = ForwardPropagation(X_train,params)\n",
        "        loss_test = CategoricalCrossEntropy(Y_train,pred_test)\n",
        "        test_losses.append(loss_test)        \n",
        "        \n",
        "        cost = l + regularization\n",
        "        losses.append(cost)\n",
        "        if epoch % 200 == 0:\n",
        "          print(f\"Epoch {epoch} : {l}\")\n",
        "        \n",
        "        dW,db,dAl_1 = LastLayerBackward(Y,pred,params[\"W\"+str(L)],Als[-1])\n",
        "        v = {}\n",
        "        for l in range(L):\n",
        "          v[\"dW\" + str(l+1)] = np.zeros_like(params['W' + str(l+1)])\n",
        "          v[\"db\" + str(l+1)] = np.zeros_like(params['b' + str(l+1)])\n",
        "        \n",
        "        v[\"dW\" + str(L)] = beta * v[\"dW\" + str(L)] + (1-beta) * dW\n",
        "        v[\"db\" + str(L)] = beta * v[\"db\" + str(L)] + (1-beta) * db\n",
        "        \n",
        "        \n",
        "        \n",
        "        \n",
        "        params[\"W\"+str(L)] -= learning_rate * v[\"dW\"+str(L)] + params[\"W\"+str(L)] * (lambd / m)\n",
        "        params[\"b\"+str(L)] -= learning_rate * v[\"db\"+str(L)]\n",
        "        \n",
        "        for l in reversed(range(L-1)):\n",
        "            dw,db,dAl_1 = OtherLayerBackwards(dAl_1,Zs[l],params[\"W\"+str(l+1)],Als[l])\n",
        "            \n",
        "            ##updating velocity\n",
        "            v[\"dW\" + str(l+1)] = beta * v[\"dW\" + str(l+1)] + (1-beta) * dw\n",
        "            v[\"db\" + str(l+1)] = beta * v[\"db\" + str(l+1)] + (1-beta) * db\n",
        "            \n",
        "            params[\"W\"+str(l+1)] -= learning_rate * v[\"dW\"+str(l+1)] + params[\"W\"+str(l+1)] * (lambd / m)\n",
        "            params[\"b\"+str(l+1)] -= learning_rate * v[\"db\"+str(l+1)]\n",
        "    \n",
        "          \n",
        "    return losses,test_losses"
      ],
      "execution_count": 0,
      "outputs": []
    },
    {
      "cell_type": "code",
      "metadata": {
        "id": "bVtxBKUybJgs",
        "colab_type": "code",
        "colab": {}
      },
      "source": [
        "def fit(X,y,X_train,Y_train,Dims,epochs,learning_rate,lambd,beta):\n",
        "\n",
        "    params = {}\n",
        "    ##Using He initializatiom\n",
        "    for i in range(len(Dims)-1):\n",
        "        params[\"W\"+str(i+1)] = np.random.randn(Dims[i],Dims[i+1]) * np.sqrt(1 / Dims[i])\n",
        "        params[\"b\"+str(i+1)] = np.zeros(Dims[i+1])  \n",
        "        \n",
        "    \n",
        "    losses,test_losses = train(X,y,X_train,Y_train,params,learning_rate,epochs,lambd,beta)\n",
        "    \n",
        "    plt.plot(losses, label = 'Train losses')\n",
        "    plt.plot(test_losses,label = 'Test losses')\n",
        "    plt.legend()\n",
        "    return losses,params"
      ],
      "execution_count": 0,
      "outputs": []
    },
    {
      "cell_type": "code",
      "metadata": {
        "id": "dfr-4BZEbKyz",
        "colab_type": "code",
        "colab": {}
      },
      "source": [
        "def PlotCurve(losses):\n",
        "    plt.plot(losses)"
      ],
      "execution_count": 0,
      "outputs": []
    },
    {
      "cell_type": "code",
      "metadata": {
        "id": "_9l4bIyobQR2",
        "colab_type": "code",
        "outputId": "607ee09c-66d0-4aa6-f09b-513ee60eba3d",
        "colab": {
          "base_uri": "https://localhost:8080/",
          "height": 350
        }
      },
      "source": [
        "dims = [D,128,K]\n",
        "n = 2000\n",
        "losses,params = fit(X_train[:n],Ytrain[:n],X_test.reshape(10000,784),Ytest,dims, epochs = 1000,learning_rate=10e-3,lambd =0.7,beta=0.9)"
      ],
      "execution_count": 41,
      "outputs": [
        {
          "output_type": "stream",
          "text": [
            "Epoch 0 : 151088.6804320167\n",
            "Epoch 200 : 49.88670487421881\n",
            "Epoch 400 : 10.95833285574725\n",
            "Epoch 600 : 9.224223729354662\n",
            "Epoch 800 : 9.435328759731586\n"
          ],
          "name": "stdout"
        },
        {
          "output_type": "display_data",
          "data": {
            "image/png": "[encoded data removed]",
            "text/plain": [
              "<Figure size 432x288 with 1 Axes>"
            ]
          },
          "metadata": {
            "tags": [],
            "needs_background": "light"
          }
        }
      ]
    },
    {
      "cell_type": "code",
      "metadata": {
        "id": "CQGHv9TghUU4",
        "colab_type": "code",
        "outputId": "2a5f3920-08be-4f2d-ee2d-b1dc87d9b828",
        "colab": {
          "base_uri": "https://localhost:8080/",
          "height": 34
        }
      },
      "source": [
        "losses[-1]"
      ],
      "execution_count": 42,
      "outputs": [
        {
          "output_type": "execute_result",
          "data": {
            "text/plain": [
              "10.240865681215247"
            ]
          },
          "metadata": {
            "tags": []
          },
          "execution_count": 42
        }
      ]
    },
    {
      "cell_type": "code",
      "metadata": {
        "id": "xij-zGwVdcNw",
        "colab_type": "code",
        "colab": {}
      },
      "source": [
        "AL,_,_ = ForwardPropagation(X_test.reshape(10000,784),params)"
      ],
      "execution_count": 0,
      "outputs": []
    },
    {
      "cell_type": "code",
      "metadata": {
        "id": "iymtuuZxd7yB",
        "colab_type": "code",
        "colab": {}
      },
      "source": [
        "total = Ytest.shape[0]\n",
        "counts = 0\n",
        "for i,x in enumerate(softmax(AL)):\n",
        "  if x.argmax() == Ytest[i].argmax():\n",
        "    counts += 1"
      ],
      "execution_count": 0,
      "outputs": []
    },
    {
      "cell_type": "code",
      "metadata": {
        "id": "5Z3DUbbEfBmE",
        "colab_type": "code",
        "outputId": "b1de4291-544a-43d0-952c-b58e1f874a23",
        "colab": {
          "base_uri": "https://localhost:8080/",
          "height": 34
        }
      },
      "source": [
        "accuracy_test = counts / total\n",
        "print(f\"Accuracy test:{accuracy_test*100} %\")"
      ],
      "execution_count": 45,
      "outputs": [
        {
          "output_type": "stream",
          "text": [
            "Accuracy test:81.88 %\n"
          ],
          "name": "stdout"
        }
      ]
    },
    {
      "cell_type": "code",
      "metadata": {
        "id": "TFjFmk8zOnTb",
        "colab_type": "code",
        "colab": {
          "base_uri": "https://localhost:8080/",
          "height": 34
        },
        "outputId": "a2a5905a-46f2-4615-c7a7-d05801731c0a"
      },
      "source": [
        "total = Ytrain.shape[0]\n",
        "counts = 0\n",
        "AL,_,_ = ForwardPropagation(X_train,params)\n",
        "\n",
        "for i, x in enumerate(softmax(AL)):\n",
        "\n",
        "  if x.argmax() == Ytrain[i].argmax():\n",
        "    counts += 1\n",
        "accuracy_train = counts / total\n",
        "print(f\"Accuracy train:{accuracy_train*100} %\")"
      ],
      "execution_count": 46,
      "outputs": [
        {
          "output_type": "stream",
          "text": [
            "Accuracy train:81.15333333333334 %\n"
          ],
          "name": "stdout"
        }
      ]
    }
  ]
}